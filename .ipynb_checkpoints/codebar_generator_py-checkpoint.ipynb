{
 "cells": [
  {
   "cell_type": "code",
   "execution_count": 1,
   "id": "6e27c3a5",
   "metadata": {},
   "outputs": [
    {
     "data": {
      "text/plain": [
       "'codigo_barra.png'"
      ]
     },
     "execution_count": 1,
     "metadata": {},
     "output_type": "execute_result"
    }
   ],
   "source": [
    "from barcode import EAN13 #Importando EAN13 da biblioteca barcode\n",
    "\n",
    "from barcode.writer import ImageWriter #Importando este componente da biblioteca para poder permitir salvar a imagem em PNG\n",
    "\n",
    "codigo_numerico = \"012345678910\" #definição da variável que guarda o valor numérico para ser convertido em código de barras\n",
    "\n",
    "codigo_barra = EAN13(codigo_numerico, writer = ImageWriter()) #gerando o código de barras baseado no número que o usuário informou e já convertendo a imagem para PNG\n",
    "codigo_barra.save(\"codigo_barra\") #Salvando a imagem\n",
    "\n",
    "#Após estas etapas, o código de barras estará gerado e um novo arquivo aparecerá nesta mesma pasta onde está este arquivo de código\n"
   ]
  },
  {
   "cell_type": "code",
   "execution_count": null,
   "id": "9317c410",
   "metadata": {},
   "outputs": [],
   "source": []
  },
  {
   "cell_type": "code",
   "execution_count": null,
   "id": "5452726d",
   "metadata": {},
   "outputs": [],
   "source": []
  },
  {
   "cell_type": "code",
   "execution_count": null,
   "id": "3292df57",
   "metadata": {},
   "outputs": [],
   "source": []
  },
  {
   "cell_type": "code",
   "execution_count": null,
   "id": "b9726a8f",
   "metadata": {},
   "outputs": [],
   "source": []
  }
 ],
 "metadata": {
  "kernelspec": {
   "display_name": "Python 3 (ipykernel)",
   "language": "python",
   "name": "python3"
  },
  "language_info": {
   "codemirror_mode": {
    "name": "ipython",
    "version": 3
   },
   "file_extension": ".py",
   "mimetype": "text/x-python",
   "name": "python",
   "nbconvert_exporter": "python",
   "pygments_lexer": "ipython3",
   "version": "3.9.7"
  }
 },
 "nbformat": 4,
 "nbformat_minor": 5
}
